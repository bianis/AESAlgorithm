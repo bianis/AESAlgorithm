{
 "cells": [
  {
   "cell_type": "markdown",
   "metadata": {},
   "source": [
    "# Enkripsi AES"
   ]
  },
  {
   "cell_type": "markdown",
   "metadata": {},
   "source": [
    "<img src=\"Steps.jpg\">"
   ]
  },
  {
   "cell_type": "markdown",
   "metadata": {},
   "source": [
    "Task:\n",
    "1. \"Ngerjain enkripsi aes, cuman kuncinya bikin sendiri buat dipake di mix column\" - km\n",
    "\n",
    "2. Ingin tau kalau seandainya salah satu matriks diubah, bagaimana cara untuk mendapatkan invers-nya, lalu coba implementasikan di satu message. Saat melakukan perubahan, pastikan akan menghasilkan message yang kembali pada asalnya."
   ]
  }
 ],
 "metadata": {
  "kernelspec": {
   "display_name": "Python 3",
   "language": "python",
   "name": "python3"
  },
  "language_info": {
   "codemirror_mode": {
    "name": "ipython",
    "version": 3
   },
   "file_extension": ".py",
   "mimetype": "text/x-python",
   "name": "python",
   "nbconvert_exporter": "python",
   "pygments_lexer": "ipython3",
   "version": "3.7.4"
  }
 },
 "nbformat": 4,
 "nbformat_minor": 2
}
