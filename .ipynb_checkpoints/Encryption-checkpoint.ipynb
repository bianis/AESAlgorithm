{
 "cells": [
  {
   "cell_type": "markdown",
   "metadata": {},
   "source": [
    "# Enkripsi AES"
   ]
  },
  {
   "cell_type": "markdown",
   "metadata": {},
   "source": [
    "<img src=\"Steps.jpg\">"
   ]
  },
  {
   "cell_type": "markdown",
   "metadata": {},
   "source": [
    "<img src=\"Steps-detailed.jpg\">"
   ]
  },
  {
   "cell_type": "markdown",
   "metadata": {},
   "source": [
    "Task:\n",
    "1. \"Ngerjain enkripsi aes, cuman kuncinya bikin sendiri buat dipake di mix column\" - km\n",
    "\n",
    "2. Ingin tau kalau seandainya salah satu matriks diubah, bagaimana cara untuk mendapatkan invers-nya, lalu coba implementasikan di satu message. Saat melakukan perubahan, pastikan akan menghasilkan message yang kembali pada asalnya.\n",
    "\n",
    "mohon maaf kawan-kawan semua jika saya memberi informasi terkait Tugas Besar Kriptografi sangat telat\n",
    "\n",
    "Tugas Besar\n",
    "- melakukan enkripsi AES dengan kunci buatan sendiri dan tabel Mix Column buatan sendiri\n",
    "- dikumpulkan saat hari H UAS kemungkinan tanggal 14 Mei 2020\n",
    "\n",
    "\n",
    "\n",
    "[2:44 PM, 5/10/2020] +62 899-7921-968: permisi bu @Bu Ari  untuk kunci AES itu digunakan untuk menetukan banyak round, jadi bebas memilih yg 10,12, atau 14 round kan?\n",
    "kalau untuk mix column yang buatan sendiri itu irreducible polynomial nya kan? bukan fixed tabel yg diubah\n",
    "\n",
    "[2:45 PM, 5/10/2020] Bu Ari: Pake yg kecil saja yg 10 tound saja"
   ]
  },
  {
   "cell_type": "markdown",
   "metadata": {},
   "source": [
    "# Initial Round + STEP 4\n",
    "AddRoundKey"
   ]
  },
  {
   "cell_type": "code",
   "execution_count": 28,
   "metadata": {},
   "outputs": [],
   "source": [
    "def add_round_key(A, k):\n",
    "    import copy\n",
    "    s = copy.copy(A)\n",
    "    for i in range(4):\n",
    "        for j in range(4):\n",
    "            s[i][j] ^= k[i][j]\n",
    "    return s"
   ]
  },
  {
   "cell_type": "markdown",
   "metadata": {},
   "source": [
    "# STEP 1\n",
    "(called SubBytes for byte-by-byte substitution during the forward process) (The corresponding substitution step used during decryption is called InvSubBytes.)"
   ]
  },
  {
   "cell_type": "code",
   "execution_count": 54,
   "metadata": {},
   "outputs": [],
   "source": [
    "def sub_bytes(s):\n",
    "    for i in range(4):\n",
    "        for j in range(4):\n",
    "            s[i][j] = s_box[s[i][j]]\n",
    "    return s"
   ]
  },
  {
   "cell_type": "markdown",
   "metadata": {},
   "source": [
    "# STEP 2\n",
    "ShiftRows"
   ]
  },
  {
   "cell_type": "code",
   "execution_count": 55,
   "metadata": {},
   "outputs": [],
   "source": [
    "def shift_rows(s):\n",
    "    s[0][1], s[1][1], s[2][1], s[3][1] = s[1][1], s[2][1], s[3][1], s[0][1]\n",
    "    s[0][2], s[1][2], s[2][2], s[3][2] = s[2][2], s[3][2], s[0][2], s[1][2]\n",
    "    s[0][3], s[1][3], s[2][3], s[3][3] = s[3][3], s[0][3], s[1][3], s[2][3]"
   ]
  },
  {
   "cell_type": "markdown",
   "metadata": {},
   "source": [
    "# STEP 3\n",
    "MixColoumns"
   ]
  },
  {
   "cell_type": "code",
   "execution_count": 58,
   "metadata": {},
   "outputs": [],
   "source": [
    "def mix_single_column(a):\n",
    "    # see Sec 4.1.2 in The Design of Rijndael\n",
    "    t = a[0] ^ a[1] ^ a[2] ^ a[3]\n",
    "    u = a[0]\n",
    "    a[0] ^= t ^ xtime(a[0] ^ a[1])\n",
    "    a[1] ^= t ^ xtime(a[1] ^ a[2])\n",
    "    a[2] ^= t ^ xtime(a[2] ^ a[3])\n",
    "    a[3] ^= t ^ xtime(a[3] ^ u)\n",
    "\n",
    "\n",
    "def mix_columns(s):\n",
    "    for i in range(4):\n",
    "        mix_single_column(s[i])"
   ]
  },
  {
   "cell_type": "code",
   "execution_count": 49,
   "metadata": {
    "scrolled": true
   },
   "outputs": [
    {
     "name": "stdout",
     "output_type": "stream",
     "text": [
      "11010100\n",
      "1\n",
      "\n",
      "00000010\n"
     ]
    }
   ],
   "source": [
    "# print (hex((0x02*0xd4) ^ (0x03*0xbf) ^ (0x01*0x5d) ^ (0x01*0x30)))\n",
    "import random\n",
    "\n",
    "\n",
    "\n",
    "temp = bin(0xd4)[2:]\n",
    "print(temp)\n",
    "print(temp[0])\n",
    "print()\n",
    "cusm = [0x01, 0x02, 0x03]\n",
    "\n",
    "# custoM = []\n",
    "# for i in range(4):\n",
    "#     r = []\n",
    "#     for j in range(4):\n",
    "#         r.append(hex(cusm[random.randint(0,2)]))\n",
    "#     custoM.append(r)\n",
    "\n",
    "# print(custoM)\n",
    "\n",
    "matrixCustom = [[0x02, 0x01, 0x02, 0x01],\n",
    "                [0x02, 0x01, 0x01, 0x01],\n",
    "                [0x01, 0x02, 0x02, 0x01],\n",
    "                [0x02, 0x03, 0x03, 0x02]]\n",
    "num_of_bits = 8\n",
    "print(bin(0x02)[2:].zfill(num_of_bits))\n",
    "\n",
    "# binMatrixCustom = []\n",
    "# for i in matrixCustom:\n",
    "#     binM = []\n",
    "#     for j in i:\n",
    "#         binM.append(bin(j)[2:].zfill(num_of_bits))\n",
    "#     binMatrixCustom.append(binM)\n",
    "# print(binMatrixCustom)"
   ]
  },
  {
   "cell_type": "code",
   "execution_count": null,
   "metadata": {},
   "outputs": [],
   "source": [
    "for i in range(matrixCustom):\n",
    "    for j in range(i):\n",
    "        if matrixCustom == 0x02:\n",
    "            "
   ]
  },
  {
   "cell_type": "markdown",
   "metadata": {},
   "source": [
    "# ENKRIPSI"
   ]
  },
  {
   "cell_type": "code",
   "execution_count": null,
   "metadata": {},
   "outputs": [],
   "source": [
    "def encrypt(key, plaintext, workload=100000):\n",
    "    \"\"\"\n",
    "    Encrypts `plaintext` with `key` using AES-128, an HMAC to verify integrity,\n",
    "    and PBKDF2 to stretch the given key.\n",
    "    The exact algorithm is specified in the module docstring.\n",
    "    \"\"\"\n",
    "    if isinstance(key, str):\n",
    "        key = key.encode('utf-8')\n",
    "    if isinstance(plaintext, str):\n",
    "        plaintext = plaintext.encode('utf-8')\n",
    "\n",
    "    salt = os.urandom(SALT_SIZE)\n",
    "    key, hmac_key, iv = get_key_iv(key, salt, workload)\n",
    "    ciphertext = AES(key).encrypt_cbc(plaintext, iv)\n",
    "    hmac = new_hmac(hmac_key, salt + ciphertext, 'sha256').digest()\n",
    "    assert len(hmac) == HMAC_SIZE\n",
    "\n",
    "    return hmac + salt + ciphertext"
   ]
  },
  {
   "cell_type": "code",
   "execution_count": 57,
   "metadata": {},
   "outputs": [],
   "source": [
    "s_box = (\n",
    "    0x63, 0x7C, 0x77, 0x7B, 0xF2, 0x6B, 0x6F, 0xC5, 0x30, 0x01, 0x67, 0x2B, 0xFE, 0xD7, 0xAB, 0x76,\n",
    "    0xCA, 0x82, 0xC9, 0x7D, 0xFA, 0x59, 0x47, 0xF0, 0xAD, 0xD4, 0xA2, 0xAF, 0x9C, 0xA4, 0x72, 0xC0,\n",
    "    0xB7, 0xFD, 0x93, 0x26, 0x36, 0x3F, 0xF7, 0xCC, 0x34, 0xA5, 0xE5, 0xF1, 0x71, 0xD8, 0x31, 0x15,\n",
    "    0x04, 0xC7, 0x23, 0xC3, 0x18, 0x96, 0x05, 0x9A, 0x07, 0x12, 0x80, 0xE2, 0xEB, 0x27, 0xB2, 0x75,\n",
    "    0x09, 0x83, 0x2C, 0x1A, 0x1B, 0x6E, 0x5A, 0xA0, 0x52, 0x3B, 0xD6, 0xB3, 0x29, 0xE3, 0x2F, 0x84,\n",
    "    0x53, 0xD1, 0x00, 0xED, 0x20, 0xFC, 0xB1, 0x5B, 0x6A, 0xCB, 0xBE, 0x39, 0x4A, 0x4C, 0x58, 0xCF,\n",
    "    0xD0, 0xEF, 0xAA, 0xFB, 0x43, 0x4D, 0x33, 0x85, 0x45, 0xF9, 0x02, 0x7F, 0x50, 0x3C, 0x9F, 0xA8,\n",
    "    0x51, 0xA3, 0x40, 0x8F, 0x92, 0x9D, 0x38, 0xF5, 0xBC, 0xB6, 0xDA, 0x21, 0x10, 0xFF, 0xF3, 0xD2,\n",
    "    0xCD, 0x0C, 0x13, 0xEC, 0x5F, 0x97, 0x44, 0x17, 0xC4, 0xA7, 0x7E, 0x3D, 0x64, 0x5D, 0x19, 0x73,\n",
    "    0x60, 0x81, 0x4F, 0xDC, 0x22, 0x2A, 0x90, 0x88, 0x46, 0xEE, 0xB8, 0x14, 0xDE, 0x5E, 0x0B, 0xDB,\n",
    "    0xE0, 0x32, 0x3A, 0x0A, 0x49, 0x06, 0x24, 0x5C, 0xC2, 0xD3, 0xAC, 0x62, 0x91, 0x95, 0xE4, 0x79,\n",
    "    0xE7, 0xC8, 0x37, 0x6D, 0x8D, 0xD5, 0x4E, 0xA9, 0x6C, 0x56, 0xF4, 0xEA, 0x65, 0x7A, 0xAE, 0x08,\n",
    "    0xBA, 0x78, 0x25, 0x2E, 0x1C, 0xA6, 0xB4, 0xC6, 0xE8, 0xDD, 0x74, 0x1F, 0x4B, 0xBD, 0x8B, 0x8A,\n",
    "    0x70, 0x3E, 0xB5, 0x66, 0x48, 0x03, 0xF6, 0x0E, 0x61, 0x35, 0x57, 0xB9, 0x86, 0xC1, 0x1D, 0x9E,\n",
    "    0xE1, 0xF8, 0x98, 0x11, 0x69, 0xD9, 0x8E, 0x94, 0x9B, 0x1E, 0x87, 0xE9, 0xCE, 0x55, 0x28, 0xDF,\n",
    "    0x8C, 0xA1, 0x89, 0x0D, 0xBF, 0xE6, 0x42, 0x68, 0x41, 0x99, 0x2D, 0x0F, 0xB0, 0x54, 0xBB, 0x16,\n",
    ")"
   ]
  },
  {
   "cell_type": "code",
   "execution_count": 23,
   "metadata": {},
   "outputs": [],
   "source": [
    "# pesan\n",
    "# 73 61 79 61\n",
    "# 73 75 6b 61\n",
    "# 6d 61 69 6e\n",
    "# 61 6c 67 6f\n",
    "\n",
    "\n",
    "\n",
    "# A = [['73','61','79', '61'],\n",
    "#      ['73', '75', '6b', '61'],\n",
    "#      ['6d', '61', '69', '6e'],\n",
    "#      ['61', '6c', '67', '6f']]\n",
    "\n",
    "A = [[0x73, 0x61, 0x79, 0x61],\n",
    "     [0x73, 0x75, 0x6b, 0x61],\n",
    "     [0x6d, 0x61, 0x69, 0x6e],\n",
    "     [0x61, 0x6c, 0x67, 0x6f]]\n",
    "\n",
    "# AX = [[hex(int('0x'+y, 16)) for y in x] for x in A]\n",
    "\n",
    "# K = [['62', '75', '61', '74'],\n",
    "#      ['6b', '65', '79', '73'],\n",
    "#      ['6c', '61', '67', '69'],\n",
    "#      ['64', '69', '72', '69']]\n",
    "\n",
    "K = [[0x62, 0x75, 0x61, 0x74],\n",
    "     [0x6b, 0x65, 0x79, 0x73],\n",
    "     [0x6c, 0x61, 0x67, 0x69],\n",
    "     [0x64, 0x69, 0x72, 0x69]]\n",
    "\n",
    "# KX = [[hex(int('0x'+y, 16)) for y in x] for x in K]\n",
    "\n",
    "# import numpy as np\n",
    "\n",
    "# a = '7361796173756b616d61696e616c676f'\n",
    "# n = 2\n",
    "# x = [a[i:i+n] for i in range(0, len(a), n)]\n",
    "\n",
    "# my_matrix = np.array(x).reshape(4, 4).T\n",
    "\n",
    "# print(my_matrix)\n",
    "\n",
    "# dec_array = [[1,2,3,4],\n",
    "#             [5,6,7,8],\n",
    "#             [9,10,11,12],\n",
    "#             [13,14,15,16]]\n",
    "# dec_array = [1,2,3,4, 5,6,7,8,9,10,11,12,13,14,15,16]\n",
    "# hex_array = [hex(x) for x in dec_array]\n",
    "# print(hex_array)"
   ]
  },
  {
   "cell_type": "code",
   "execution_count": 51,
   "metadata": {},
   "outputs": [],
   "source": [
    "def AddRoundKey(state, key):\n",
    "    Nb = len(state)\n",
    "    new_state = [[None for j in range(4)] for i in range(Nb)]\n",
    "    for i, word in enumerate(state):\n",
    "        for j, byte in enumerate(word):\n",
    "            new_state[i][j] = byte ^ key[i][j]\n",
    "    return new_state"
   ]
  },
  {
   "cell_type": "code",
   "execution_count": 52,
   "metadata": {},
   "outputs": [],
   "source": [
    "def AddRoundKeyX(state, key):\n",
    "    Nb = len(state)\n",
    "    new_state = [[None for j in range(4)] for i in range(Nb)]\n",
    "    for i, word in enumerate(state):\n",
    "        for j, byte in enumerate(word):\n",
    "            new_state[i][j] = hex(byte ^ key[i][j])\n",
    "    return new_state"
   ]
  },
  {
   "cell_type": "code",
   "execution_count": 33,
   "metadata": {
    "scrolled": true
   },
   "outputs": [
    {
     "name": "stdout",
     "output_type": "stream",
     "text": [
      "[['0x73', '0x61', '0x79', '0x61'], ['0x73', '0x75', '0x6b', '0x61'], ['0x6d', '0x61', '0x69', '0x6e'], ['0x61', '0x6c', '0x67', '0x6f']]\n",
      "[[115, 97, 121, 97], [115, 117, 107, 97], [109, 97, 105, 110], [97, 108, 103, 111]]\n"
     ]
    }
   ],
   "source": [
    "s = AddRoundKey(A, K)\n",
    "print(s)\n",
    "\n",
    "k = add_round_key(A, K)\n",
    "print(k)"
   ]
  },
  {
   "cell_type": "code",
   "execution_count": 31,
   "metadata": {},
   "outputs": [
    {
     "name": "stdout",
     "output_type": "stream",
     "text": [
      "0xad4\n",
      "0xa4\n"
     ]
    }
   ],
   "source": [
    "hex_str = \"0xAD4\"\n",
    "hex_int = int(hex_str, 16)\n",
    "print (hex(hex_int))\n",
    "hasil = 0x04 ^ 0xa0\n",
    "print(hex(hasil))"
   ]
  },
  {
   "cell_type": "markdown",
   "metadata": {},
   "source": [
    "# ENKRIP YANG SESUNGGUHNYA"
   ]
  },
  {
   "cell_type": "code",
   "execution_count": 62,
   "metadata": {},
   "outputs": [
    {
     "name": "stdout",
     "output_type": "stream",
     "text": [
      "[[17, 20, 24, 21], [24, 16, 18, 18], [1, 0, 14, 7], [5, 5, 21, 6]]\n",
      "[['0x11', '0x14', '0x18', '0x15'], ['0x18', '0x10', '0x12', '0x12'], ['0x1', '0x0', '0xe', '0x7'], ['0x5', '0x5', '0x15', '0x6']]\n",
      "0x82\n",
      "\n",
      "[[130, 202, 171, 111], [173, 99, 89, 89], [124, 107, 173, 201], [107, 250, 201, 197]]\n",
      "\n",
      "[['10000010', '11001010', '10101011', '01101111'], ['10101101', '01100011', '01011001', '01011001'], ['01111100', '01101011', '10101101', '11001001'], ['01101011', '11111010', '11001001', '11000101']]\n"
     ]
    }
   ],
   "source": [
    "A = [[0x73, 0x61, 0x79, 0x61],\n",
    "     [0x73, 0x75, 0x6b, 0x61],\n",
    "     [0x6d, 0x61, 0x69, 0x6e],\n",
    "     [0x61, 0x6c, 0x67, 0x6f]]\n",
    "\n",
    "K = [[0x62, 0x75, 0x61, 0x74],\n",
    "     [0x6b, 0x65, 0x79, 0x73],\n",
    "     [0x6c, 0x61, 0x67, 0x69],\n",
    "     [0x64, 0x69, 0x72, 0x69]]\n",
    "\n",
    "step0 = AddRoundKey(A, K)\n",
    "print(step0)\n",
    "\n",
    "step01 = AddRoundKeyX(A, K)\n",
    "print(step01)\n",
    "print(hex(130))\n",
    "step1 = sub_bytes(step0)\n",
    "print()\n",
    "# print(step1)\n",
    "# for s in step1:\n",
    "#     print(s)\n",
    "#     print()\n",
    "# print()\n",
    "shift_rows(step1)\n",
    "print(step1)\n",
    "# for s in step1:\n",
    "#     print(s)\n",
    "#     print()\n",
    "# mix_columns(step1)\n",
    "print()\n",
    "\n",
    "for r in range(len(step1)):\n",
    "    for d in range(len(step1[r])):\n",
    "        step1[r][d] = bin(step1[r][d])[2:].zfill(8)\n",
    "print(step1)"
   ]
  }
 ],
 "metadata": {
  "kernelspec": {
   "display_name": "Python 3",
   "language": "python",
   "name": "python3"
  },
  "language_info": {
   "codemirror_mode": {
    "name": "ipython",
    "version": 3
   },
   "file_extension": ".py",
   "mimetype": "text/x-python",
   "name": "python",
   "nbconvert_exporter": "python",
   "pygments_lexer": "ipython3",
   "version": "3.7.4"
  }
 },
 "nbformat": 4,
 "nbformat_minor": 2
}
